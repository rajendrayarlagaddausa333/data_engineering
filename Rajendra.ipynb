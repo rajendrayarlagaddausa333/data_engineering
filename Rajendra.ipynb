{
  "nbformat": 4,
  "nbformat_minor": 0,
  "metadata": {
    "colab": {
      "provenance": [],
      "authorship_tag": "ABX9TyNKNxu5cMmJPL0z6KJvj8y4",
      "include_colab_link": true
    },
    "kernelspec": {
      "name": "python3",
      "display_name": "Python 3"
    },
    "language_info": {
      "name": "python"
    }
  },
  "cells": [
    {
      "cell_type": "markdown",
      "metadata": {
        "id": "view-in-github",
        "colab_type": "text"
      },
      "source": [
        "<a href=\"https://colab.research.google.com/github/rajendrayarlagaddausa333/data_engineering/blob/main/Rajendra.ipynb\" target=\"_parent\"><img src=\"https://colab.research.google.com/assets/colab-badge.svg\" alt=\"Open In Colab\"/></a>"
      ]
    },
    {
      "cell_type": "code",
      "execution_count": 3,
      "metadata": {
        "colab": {
          "base_uri": "https://localhost:8080/",
          "height": 0
        },
        "id": "f1LiKzBd-wgQ",
        "outputId": "59cdd36a-3710-4afb-f734-e78a55e50cbe"
      },
      "outputs": [
        {
          "output_type": "stream",
          "name": "stdout",
          "text": [
            "650\n"
          ]
        }
      ],
      "source": [
        "Addition\n",
        "\n",
        "rajendra = 1150\n",
        "prasad = -500\n",
        "\n",
        "full_name = (rajendra+prasad)\n",
        "print(full_name)"
      ]
    },
    {
      "cell_type": "code",
      "source": [
        "# Subtraction\n",
        "\n",
        "income = 100000\n",
        "expenses = 7544\n",
        "remaining = (income-expenses)\n",
        "print(remaining)\n"
      ],
      "metadata": {
        "colab": {
          "base_uri": "https://localhost:8080/",
          "height": 0
        },
        "id": "j2TPzRKy-zpu",
        "outputId": "612b22d9-995d-4d45-ee9b-071dc476b944"
      },
      "execution_count": 5,
      "outputs": [
        {
          "output_type": "stream",
          "name": "stdout",
          "text": [
            "92456\n"
          ]
        }
      ]
    },
    {
      "cell_type": "code",
      "source": [
        "# Multiplication\n",
        "\n",
        "cost = 500\n",
        "quantity = 50\n",
        "total_cost = (cost*quantity)\n",
        "print(total_cost)"
      ],
      "metadata": {
        "colab": {
          "base_uri": "https://localhost:8080/",
          "height": 0
        },
        "id": "LjkImbNiAvDH",
        "outputId": "f42fad83-8cb6-4fbd-eea9-6354e3f69505"
      },
      "execution_count": 6,
      "outputs": [
        {
          "output_type": "stream",
          "name": "stdout",
          "text": [
            "25000\n"
          ]
        }
      ]
    },
    {
      "cell_type": "code",
      "source": [
        "# Division\n",
        "cost = 1000\n",
        "quantity = 300\n",
        "avg_cost = cost / quantity\n",
        "print(avg_cost)\n",
        "\n",
        "float\n"
      ],
      "metadata": {
        "colab": {
          "base_uri": "https://localhost:8080/",
          "height": 0
        },
        "id": "JfZq5erlBJeO",
        "outputId": "d2072b30-1570-491a-ebf9-7e02ccea33dc"
      },
      "execution_count": 17,
      "outputs": [
        {
          "output_type": "stream",
          "name": "stdout",
          "text": [
            "3.3333333333333335\n"
          ]
        },
        {
          "output_type": "execute_result",
          "data": {
            "text/plain": [
              "float"
            ]
          },
          "metadata": {},
          "execution_count": 17
        }
      ]
    },
    {
      "cell_type": "code",
      "source": [],
      "metadata": {
        "id": "q50u-0TUCiII"
      },
      "execution_count": null,
      "outputs": []
    },
    {
      "cell_type": "code",
      "source": [
        "# Floor Division\n",
        "cost = 1000\n",
        "quantity = 300\n",
        "avg_cost = cost // quantity\n",
        "print(avg_cost)\n",
        "\n",
        "gives round value"
      ],
      "metadata": {
        "colab": {
          "base_uri": "https://localhost:8080/",
          "height": 0
        },
        "id": "zLgWwELnBx-4",
        "outputId": "8380665a-cdb0-4bef-fe72-a67cfbe9ff8a"
      },
      "execution_count": 14,
      "outputs": [
        {
          "output_type": "stream",
          "name": "stdout",
          "text": [
            "3\n"
          ]
        }
      ]
    },
    {
      "cell_type": "code",
      "source": [
        "# Modulus (remainder)\n",
        "\n",
        "cost = 10\n",
        "quantity = 3\n",
        "avg_cost = cost % quantity\n",
        "print(avg_cost)\n",
        "\n"
      ],
      "metadata": {
        "colab": {
          "base_uri": "https://localhost:8080/",
          "height": 0
        },
        "id": "UIyx7FIECkJ3",
        "outputId": "b898225f-6e91-4692-a6aa-195999a7e65f"
      },
      "execution_count": 20,
      "outputs": [
        {
          "output_type": "stream",
          "name": "stdout",
          "text": [
            "1\n"
          ]
        }
      ]
    },
    {
      "cell_type": "code",
      "source": [
        "#Exponentiation\n",
        "\n",
        "a = 10\n",
        "b = 5\n",
        "total = a ** b\n",
        "print(total)\n",
        ""
      ],
      "metadata": {
        "colab": {
          "base_uri": "https://localhost:8080/",
          "height": 0
        },
        "id": "O9wyuKU8FEjO",
        "outputId": "d24c8bf1-b228-4fb9-b2cd-f3dc3895a45b"
      },
      "execution_count": 25,
      "outputs": [
        {
          "output_type": "stream",
          "name": "stdout",
          "text": [
            "100000\n"
          ]
        }
      ]
    },
    {
      "cell_type": "code",
      "source": [
        "#Integer Conversions:\n",
        "\n",
        "asset_value = 5081.01\n",
        "int_from_float = int(asset_value)\n",
        "print(int_from_float)"
      ],
      "metadata": {
        "colab": {
          "base_uri": "https://localhost:8080/",
          "height": 0
        },
        "id": "1QBPqyTZHoMB",
        "outputId": "0d44c3d6-33b0-416a-89a8-af91b5c8102a"
      },
      "execution_count": 28,
      "outputs": [
        {
          "output_type": "stream",
          "name": "stdout",
          "text": [
            "5081\n"
          ]
        }
      ]
    },
    {
      "cell_type": "code",
      "source": [
        "#int from string\n",
        "\n",
        "rajendra = \"1234\"\n",
        "intfromstring = int(rajendra)\n",
        "print(rajendra)"
      ],
      "metadata": {
        "colab": {
          "base_uri": "https://localhost:8080/",
          "height": 0
        },
        "id": "1wV0GgwtIb12",
        "outputId": "ca85ffd7-fd93-47fe-90fc-707b3049b81d"
      },
      "execution_count": 30,
      "outputs": [
        {
          "output_type": "stream",
          "name": "stdout",
          "text": [
            "1234\n"
          ]
        }
      ]
    },
    {
      "cell_type": "code",
      "source": [
        "# Absolute value\n",
        "raj = 23\n",
        "abs_number  = abs(raj)\n",
        "print(abs_number)"
      ],
      "metadata": {
        "colab": {
          "base_uri": "https://localhost:8080/",
          "height": 0
        },
        "id": "hqqz0d6oJIyn",
        "outputId": "872350f6-6bd9-4568-9ca5-86ab2ba5a925"
      },
      "execution_count": 31,
      "outputs": [
        {
          "output_type": "stream",
          "name": "stdout",
          "text": [
            "23\n"
          ]
        }
      ]
    },
    {
      "cell_type": "code",
      "source": [
        "large_number = 2**1000\n",
        "print(large_number)"
      ],
      "metadata": {
        "colab": {
          "base_uri": "https://localhost:8080/",
          "height": 0
        },
        "id": "GGhx6xD1JcyV",
        "outputId": "4876b864-b58c-4581-b826-4c2403964054"
      },
      "execution_count": 34,
      "outputs": [
        {
          "output_type": "stream",
          "name": "stdout",
          "text": [
            "10715086071862673209484250490600018105614048117055336074437503883703510511249361224931983788156958581275946729175531468251871452856923140435984577574698574803934567774824230985421074605062371141877954182153046474983581941267398767559165543946077062914571196477686542167660429831652624386837205668069376\n"
          ]
        }
      ]
    },
    {
      "cell_type": "code",
      "source": [
        "raje = 1000\n",
        "print(type(raj))"
      ],
      "metadata": {
        "colab": {
          "base_uri": "https://localhost:8080/",
          "height": 0
        },
        "id": "4-lirUIRJxVN",
        "outputId": "d8e51c71-f4b3-4948-c17f-b52dd302ab77"
      },
      "execution_count": 35,
      "outputs": [
        {
          "output_type": "stream",
          "name": "stdout",
          "text": [
            "<class 'int'>\n"
          ]
        }
      ]
    },
    {
      "cell_type": "code",
      "source": [
        "###List Elements\n",
        "\n",
        "my_id = [2,20,35,\"NTR\",34,24.24]\n",
        "print(my_id[-1])"
      ],
      "metadata": {
        "colab": {
          "base_uri": "https://localhost:8080/",
          "height": 0
        },
        "id": "ZKVwT-_NLnR3",
        "outputId": "8704194e-1203-4ab2-ef9b-a107a344c507"
      },
      "execution_count": 38,
      "outputs": [
        {
          "output_type": "stream",
          "name": "stdout",
          "text": [
            "24.24\n"
          ]
        }
      ]
    },
    {
      "cell_type": "code",
      "source": [
        "original_string = \"Python Programming\"\n",
        "result = [original_string[7:18]]\n",
        "print(result)"
      ],
      "metadata": {
        "colab": {
          "base_uri": "https://localhost:8080/",
          "height": 0
        },
        "id": "uwMS0giMORRJ",
        "outputId": "0f94981e-aa00-4092-97a9-7b2d9cd8653a"
      },
      "execution_count": 42,
      "outputs": [
        {
          "output_type": "stream",
          "name": "stdout",
          "text": [
            "['Programming']\n"
          ]
        }
      ]
    },
    {
      "cell_type": "code",
      "source": [
        "Que=\"I Love Java Programming\"\n",
        "Sol = b.replace(\"Java\",\"Python\")\n",
        "print(A)"
      ],
      "metadata": {
        "colab": {
          "base_uri": "https://localhost:8080/",
          "height": 0
        },
        "id": "gVRIH7BVQQq5",
        "outputId": "5d406d0d-25c4-4707-9c88-8af9d827872e"
      },
      "execution_count": 44,
      "outputs": [
        {
          "output_type": "stream",
          "name": "stdout",
          "text": [
            "I Love Python Programming\n"
          ]
        }
      ]
    },
    {
      "cell_type": "code",
      "source": [
        "dirty_string = \"   Clean me!   \"\n",
        "\n",
        "print(dirty_string.strip())\n",
        "\n",
        "\n"
      ],
      "metadata": {
        "colab": {
          "base_uri": "https://localhost:8080/"
        },
        "id": "zi706ZYVQ2Bp",
        "outputId": "e92730df-19b7-49d6-adad-9b0a8fd2ce99"
      },
      "execution_count": 66,
      "outputs": [
        {
          "output_type": "stream",
          "name": "stdout",
          "text": [
            "Clean me!\n"
          ]
        }
      ]
    },
    {
      "cell_type": "code",
      "source": [
        "\n",
        "result = \"rajendra\"[::-1]\n",
        "print(result)\n"
      ],
      "metadata": {
        "colab": {
          "base_uri": "https://localhost:8080/",
          "height": 0
        },
        "id": "f0MJ_ncSSiVz",
        "outputId": "b9a005f8-0573-43bc-9c4d-45d857da8e69"
      },
      "execution_count": 47,
      "outputs": [
        {
          "output_type": "stream",
          "name": "stdout",
          "text": [
            "ardnejar\n"
          ]
        }
      ]
    },
    {
      "cell_type": "code",
      "source": [
        "first_name = \"rajendra\"\n",
        "last_name = \"yarlagadda\"\n",
        "full_name = (first_name+ ' ' +last_name)\n",
        "print(full_name)"
      ],
      "metadata": {
        "colab": {
          "base_uri": "https://localhost:8080/",
          "height": 0
        },
        "id": "c0R3FAgQYYob",
        "outputId": "39a8df8c-ec02-4775-fa23-7f0241e8a710"
      },
      "execution_count": 50,
      "outputs": [
        {
          "output_type": "stream",
          "name": "stdout",
          "text": [
            "rajendra yarlagadda\n"
          ]
        }
      ]
    },
    {
      "cell_type": "code",
      "source": [
        "first_name = \"rajendra\"[::-1]\n",
        "print(first_name)\n",
        "\n",
        "\n",
        "\n"
      ],
      "metadata": {
        "colab": {
          "base_uri": "https://localhost:8080/"
        },
        "id": "JjyBZQeeY6YU",
        "outputId": "8f5e77b9-513c-4bd1-ebdf-2795a883225f"
      },
      "execution_count": 31,
      "outputs": [
        {
          "output_type": "stream",
          "name": "stdout",
          "text": [
            "ardnejar\n"
          ]
        }
      ]
    },
    {
      "cell_type": "code",
      "source": [
        "a = 8\n",
        "b = 12\n",
        "sol = (a+b)\n",
        "print(sol)\n",
        "\n",
        "name = \"rajendra\"\n",
        "my_fav_actor = \"NTR\"\n",
        "\n",
        "format_string = \"my name is {}, and my favorite actor is {}.\".format(name,my_fav_actor)\n",
        "print(format_string)"
      ],
      "metadata": {
        "colab": {
          "base_uri": "https://localhost:8080/",
          "height": 0
        },
        "id": "2w3HRyrWZHbq",
        "outputId": "b1a5714d-d523-44fa-f8a4-d1925eed7b13"
      },
      "execution_count": 53,
      "outputs": [
        {
          "output_type": "stream",
          "name": "stdout",
          "text": [
            "20\n",
            "my name is rajendra, and my favorite actor is NTR.\n"
          ]
        }
      ]
    },
    {
      "cell_type": "code",
      "source": [
        "string = '123.2'\n",
        "float_into_int = int(float(string))\n",
        "print(float_into_int)"
      ],
      "metadata": {
        "colab": {
          "base_uri": "https://localhost:8080/",
          "height": 0
        },
        "id": "wnSnUprNappM",
        "outputId": "d68c7650-c979-4745-cdb9-31979593688f"
      },
      "execution_count": 56,
      "outputs": [
        {
          "output_type": "stream",
          "name": "stdout",
          "text": [
            "123\n"
          ]
        }
      ]
    },
    {
      "cell_type": "code",
      "source": [
        "#Creating Strings\n",
        "\n",
        "single_quote = 'hello rajendra'\n",
        "double_quote = \"hello priyanka\"\n",
        "triple_quote = '''hello baji'''\n",
        "print(single_quote,double_quote,triple_quote)\n",
        "print(single_quote)\n",
        "print(double_quote)\n",
        "print(triple_quote)"
      ],
      "metadata": {
        "colab": {
          "base_uri": "https://localhost:8080/"
        },
        "id": "1XLBYU6FaRei",
        "outputId": "34aa36a6-906d-4e46-8022-2faca55ee7bf"
      },
      "execution_count": 37,
      "outputs": [
        {
          "output_type": "stream",
          "name": "stdout",
          "text": [
            "hello rajendra hello priyanka hello baji\n",
            "hello rajendra\n",
            "hello priyanka\n",
            "hello baji\n"
          ]
        }
      ]
    },
    {
      "cell_type": "code",
      "source": [
        "#Accessing Characters:\n",
        "\n",
        "name = \"priyanka\"\n",
        "print(name[3])\n",
        "print(name[0])"
      ],
      "metadata": {
        "colab": {
          "base_uri": "https://localhost:8080/"
        },
        "id": "MpCfpEGTbYqN",
        "outputId": "6568be8d-6275-4725-9945-131c15f4cf9b"
      },
      "execution_count": 5,
      "outputs": [
        {
          "output_type": "stream",
          "name": "stdout",
          "text": [
            "y\n",
            "p\n"
          ]
        }
      ]
    },
    {
      "cell_type": "code",
      "source": [
        "#Slicing:\n",
        "name = \"priyanka\"\n",
        "print(name[3:4])\n",
        "print(name[3:-1])\n",
        "print(name[3:2])#no result\n",
        "\n"
      ],
      "metadata": {
        "colab": {
          "base_uri": "https://localhost:8080/"
        },
        "id": "q9z1kwwhlPk_",
        "outputId": "4dbde032-4792-443d-e9ba-642917f6be79"
      },
      "execution_count": 10,
      "outputs": [
        {
          "output_type": "stream",
          "name": "stdout",
          "text": [
            "y\n",
            "yank\n",
            "\n"
          ]
        }
      ]
    },
    {
      "cell_type": "code",
      "source": [
        "#String Concatenation:\n",
        "first = \"raj\"\n",
        "last = \"yar\"\n",
        "full_concate = (first + \" , \"+ last)\n",
        "print(full_concate)"
      ],
      "metadata": {
        "colab": {
          "base_uri": "https://localhost:8080/"
        },
        "id": "UKI3F7XBmILy",
        "outputId": "1912524f-07f7-4e43-8fa2-538cfa468a89"
      },
      "execution_count": 16,
      "outputs": [
        {
          "output_type": "stream",
          "name": "stdout",
          "text": [
            "raj , yar\n"
          ]
        }
      ]
    },
    {
      "cell_type": "code",
      "source": [
        "#String Formatting:\n",
        "name = \"kohli\"\n",
        "ODI_hundreds = 50\n",
        "\n",
        "kohli_ODI_centuries = \"virat {} made {} internationals hundreds in ODIs.\".format(name,ODI_hundreds)\n",
        "print(kohli_ODI_centuries)"
      ],
      "metadata": {
        "colab": {
          "base_uri": "https://localhost:8080/"
        },
        "id": "9xtkCyhlnjk3",
        "outputId": "7389302e-f939-481a-df09-050fa8baa2e6"
      },
      "execution_count": 19,
      "outputs": [
        {
          "output_type": "stream",
          "name": "stdout",
          "text": [
            "virat kohli made 50 internationals hundreds in ODIs.\n"
          ]
        }
      ]
    },
    {
      "cell_type": "code",
      "source": [
        "#String Methods:\n",
        "my_inst = \"    my favourite actor NTR   \"\n",
        "print(my_inst.upper())\n",
        "print(my_inst.lower())\n",
        "print(my_inst.strip())###removes space\n",
        "print(my_inst.replace('actor','hero'))\n",
        "print(my_inst.find('NTR'))##it gives index of NTR\n",
        "\n",
        "\n"
      ],
      "metadata": {
        "colab": {
          "base_uri": "https://localhost:8080/"
        },
        "id": "JJd9JPJDo7Zy",
        "outputId": "6c4d12c1-b99a-4c9d-c9a8-69103cdd0559"
      },
      "execution_count": 29,
      "outputs": [
        {
          "output_type": "stream",
          "name": "stdout",
          "text": [
            "    MY FAVOURITE ACTOR NTR   \n",
            "    my favourite actor ntr   \n",
            "my favourite actor NTR\n",
            "    my favourite hero NTR   \n",
            "23\n"
          ]
        }
      ]
    },
    {
      "cell_type": "code",
      "source": [
        "#String Operations:\n",
        "\n",
        "name = 'priyanka'\n",
        "print(len(name))\n",
        "print('y' in 'priyanka')\n",
        "print('K' in 'priyanka')\n",
        "print('r' in 'priyanka')\n",
        "print('j' in 'priyanka')\n",
        "\n"
      ],
      "metadata": {
        "colab": {
          "base_uri": "https://localhost:8080/"
        },
        "id": "Sekf8v15sR8p",
        "outputId": "bfffadfc-bd7d-4c60-eea5-c93b89fd6ec3"
      },
      "execution_count": 36,
      "outputs": [
        {
          "output_type": "stream",
          "name": "stdout",
          "text": [
            "8\n",
            "True\n",
            "False\n",
            "True\n",
            "False\n"
          ]
        }
      ]
    },
    {
      "cell_type": "code",
      "source": [
        "#Python Numbers\n",
        "#Creating Integers & Basic Operations:\n",
        "\n",
        "unt_price = 30\n",
        "tot_qun = 100\n",
        "\n",
        "print(unt_price+tot_qun)\n",
        "print(unt_price-tot_qun)\n",
        "print(unt_price*tot_qun)\n",
        "print(unt_price/tot_qun)# Division\n",
        "print(unt_price//tot_qun)# Floor Division\n",
        "print(unt_price%tot_qun) #Modulus (remainder)\n",
        "print(tot_qun%unt_price)#Modulus (remainder)\n",
        "print(unt_price**tot_qun)#Exponentiation\n",
        "\n"
      ],
      "metadata": {
        "colab": {
          "base_uri": "https://localhost:8080/"
        },
        "id": "CJC6VXVXyRe7",
        "outputId": "e98c1144-1a0a-4f53-adf6-e7728d775d3e"
      },
      "execution_count": 39,
      "outputs": [
        {
          "output_type": "stream",
          "name": "stdout",
          "text": [
            "130\n",
            "-70\n",
            "3000\n",
            "0.3\n",
            "0\n",
            "30\n",
            "10\n",
            "5153775207320113310364611297656212727021075220010000000000000000000000000000000000000000000000000000000000000000000000000000000000000000000000000000\n"
          ]
        }
      ]
    },
    {
      "cell_type": "code",
      "source": [
        "#Integer Conversions:\n",
        "\n",
        "a=\"123.2\"\n",
        "str_flt_int=(int(float(a)))# first in converts string to float then float to int\n",
        "print(str_flt_int)\n",
        "print(float(a))\n",
        "\n",
        "\n"
      ],
      "metadata": {
        "colab": {
          "base_uri": "https://localhost:8080/"
        },
        "id": "OcWVmnpK0UYc",
        "outputId": "584eff49-0783-45b8-d0c7-f247ea7b57bb"
      },
      "execution_count": 45,
      "outputs": [
        {
          "output_type": "stream",
          "name": "stdout",
          "text": [
            "123\n",
            "123.2\n"
          ]
        }
      ]
    },
    {
      "cell_type": "code",
      "source": [
        "#Integer Methods: & checking type\n",
        "\n",
        "asst_value = 1000\n",
        "print(type(asst_value))\n",
        "print(abs(asst_value))"
      ],
      "metadata": {
        "colab": {
          "base_uri": "https://localhost:8080/"
        },
        "id": "me4jh-Aj2f3x",
        "outputId": "8e9d7c92-d62b-4b15-f63a-69e4bcceda47"
      },
      "execution_count": 49,
      "outputs": [
        {
          "output_type": "stream",
          "name": "stdout",
          "text": [
            "<class 'int'>\n",
            "1000\n"
          ]
        }
      ]
    },
    {
      "cell_type": "code",
      "source": [
        "#Python Lists\n",
        "#creating_list\n",
        "#Accessing Elements:\n",
        "\n",
        "\n",
        "my_company= [10,20,30,\"rajendra\",22.50]\n",
        "print(my_company)\n",
        "print(my_company[3])\n",
        "print(my_company[-1])\n",
        "print(len(my_company))\n",
        "my_company.pop(2)\n",
        "my_company[2]='world'\n",
        "print(my_company)\n",
        "\n"
      ],
      "metadata": {
        "colab": {
          "base_uri": "https://localhost:8080/"
        },
        "id": "Xja4ecyr8Nho",
        "outputId": "4308737c-84f1-4f8d-9260-bb76d97f8124"
      },
      "execution_count": 3,
      "outputs": [
        {
          "output_type": "stream",
          "name": "stdout",
          "text": [
            "[10, 20, 30, 'rajendra', 22.5]\n",
            "rajendra\n",
            "22.5\n",
            "5\n",
            "[10, 20, 'world', 22.5]\n"
          ]
        }
      ]
    },
    {
      "cell_type": "code",
      "source": [
        "#Tuples\n",
        "\n",
        "my_tuples = (10,20,'raj','priya',20.42)\n",
        "\n",
        "print(my_tuples[0])\n",
        "print(my_tuples[-1])\n",
        "print(my_tuples.count(20.42))\n",
        "print(my_tuples.index('raj'))\n",
        "\n",
        "\n"
      ],
      "metadata": {
        "colab": {
          "base_uri": "https://localhost:8080/"
        },
        "id": "6C_QzKbcD0i0",
        "outputId": "6cfdfb13-914d-41f0-b026-d4e60c0a357e"
      },
      "execution_count": 19,
      "outputs": [
        {
          "output_type": "stream",
          "name": "stdout",
          "text": [
            "10\n",
            "20.42\n",
            "1\n",
            "2\n"
          ]
        }
      ]
    },
    {
      "cell_type": "code",
      "source": [
        "#Python Dictionary\n",
        "\n",
        "my_dic = {'virat':'kohli','rohit':'sharma','sachin':'tendulkar'}\n",
        "print(my_dic)\n",
        "print(my_dic['virat'])\n",
        "print(my_dic['rohit'])\n",
        "print(my_dic['sachin'])\n",
        "\n",
        "my_dic['virat'] = 'king'\n",
        "print(my_dic)\n",
        "my_dic['vireder'] ='sehwag'\n",
        "print(my_dic)\n",
        "del my_dic['rohit']\n",
        "print(my_dic)\n",
        "\n",
        "print(my_dic.keys())\n",
        "print(my_dic.values())\n",
        "print(my_dic.items())\n",
        "\n"
      ],
      "metadata": {
        "colab": {
          "base_uri": "https://localhost:8080/"
        },
        "id": "gGnkrHguGI-L",
        "outputId": "c80e7d21-59b2-41dd-dec2-eecee66a7afe"
      },
      "execution_count": 31,
      "outputs": [
        {
          "output_type": "stream",
          "name": "stdout",
          "text": [
            "{'virat': 'kohli', 'rohit': 'sharma', 'sachin': 'tendulkar'}\n",
            "kohli\n",
            "sharma\n",
            "tendulkar\n",
            "{'virat': 'king', 'rohit': 'sharma', 'sachin': 'tendulkar'}\n",
            "{'virat': 'king', 'rohit': 'sharma', 'sachin': 'tendulkar', 'vireder': 'sehwag'}\n",
            "{'virat': 'king', 'sachin': 'tendulkar', 'vireder': 'sehwag'}\n",
            "dict_keys(['virat', 'sachin', 'vireder'])\n",
            "dict_values(['king', 'tendulkar', 'sehwag'])\n",
            "dict_items([('virat', 'king'), ('sachin', 'tendulkar'), ('vireder', 'sehwag')])\n"
          ]
        }
      ]
    },
    {
      "cell_type": "code",
      "source": [
        "#python set\n",
        "raj_set={10,50,35,50,20}\n",
        "print(raj_set)\n",
        "raj_set.add(6)\n",
        "raj_set.remove(10)\n",
        "print(raj_set)"
      ],
      "metadata": {
        "colab": {
          "base_uri": "https://localhost:8080/"
        },
        "id": "ome_juPUJobZ",
        "outputId": "ab0fbad8-425c-4858-b578-7606c9b9fb57"
      },
      "execution_count": 39,
      "outputs": [
        {
          "output_type": "stream",
          "name": "stdout",
          "text": [
            "{10, 35, 50, 20}\n",
            "{35, 6, 50, 20}\n"
          ]
        }
      ]
    },
    {
      "cell_type": "code",
      "source": [
        "raj_set1 = {10,20,30,40,50}\n",
        "raj_set2 = {40,50,60,70,80}\n",
        "\n",
        "raj_union = raj_set1.union(raj_set2)\n",
        "print(raj_union)\n",
        "raj_intersection = raj_set1.intersection(raj_set2)\n",
        "print(raj_intersection)\n",
        "raj_difference = raj_set1.difference(raj_set2)\n",
        "print(raj_difference)\n",
        "raj_symmetric_difference = raj_set1.symmetric_difference(raj_set2)\n",
        "print(raj_symmetric_difference)\n",
        "\n",
        "\n",
        "\n",
        "\n",
        "\n",
        "\n"
      ],
      "metadata": {
        "colab": {
          "base_uri": "https://localhost:8080/"
        },
        "id": "KzbcwzinL3MO",
        "outputId": "9afea4e1-a01c-4b90-98dc-4c1e581bbdaf"
      },
      "execution_count": 51,
      "outputs": [
        {
          "output_type": "stream",
          "name": "stdout",
          "text": [
            "{70, 40, 10, 80, 50, 20, 60, 30}\n",
            "{40, 50}\n",
            "{10, 20, 30}\n",
            "{80, 20, 70, 10, 60, 30}\n"
          ]
        }
      ]
    },
    {
      "cell_type": "code",
      "source": [
        "#set methods\n",
        "\n",
        "raj_set_new={10,50,35,50,20}\n",
        "\n",
        "raj_set_new.add(100)\n",
        "print(raj_set_new)\n",
        "raj_set_new.remove(10)\n",
        "print(raj_set_new)\n",
        "raj_set_new.discard(50)\n",
        "print(raj_set_new)\n",
        "raj_set_new.clear()\n",
        "print(raj_set_new)\n",
        "\n"
      ],
      "metadata": {
        "colab": {
          "base_uri": "https://localhost:8080/"
        },
        "id": "I6LfWd1NPZn8",
        "outputId": "d9208b7f-fcbc-4328-db1a-892beba50904"
      },
      "execution_count": 58,
      "outputs": [
        {
          "output_type": "stream",
          "name": "stdout",
          "text": [
            "{35, 100, 10, 50, 20}\n",
            "{35, 100, 50, 20}\n",
            "{35, 100, 20}\n",
            "set()\n"
          ]
        }
      ]
    },
    {
      "cell_type": "code",
      "source": [
        "salary = 2000\n",
        "if salary >= 5000:\n",
        "    print(\"good salary\")\n",
        "else:\n",
        "     print(\"not good salary\")\n",
        "\n",
        "\n",
        "\n",
        "\n"
      ],
      "metadata": {
        "colab": {
          "base_uri": "https://localhost:8080/"
        },
        "id": "5VKT5RBTSkvP",
        "outputId": "e86e27b3-4068-4301-df90-541067ed8337"
      },
      "execution_count": 61,
      "outputs": [
        {
          "output_type": "stream",
          "name": "stdout",
          "text": [
            "not good salary\n"
          ]
        }
      ]
    },
    {
      "cell_type": "code",
      "source": [
        "salary = 4999\n",
        "if salary >= 5000:\n",
        "    print(\"good salary\")\n",
        "elif salary >= 7001:\n",
        "    print(\"very good salay\")\n",
        "elif salary >= 10000:\n",
        "    print(\"awsome salary\")\n",
        "else:\n",
        "     print(\"not good salary\")"
      ],
      "metadata": {
        "colab": {
          "base_uri": "https://localhost:8080/"
        },
        "id": "T1atHESlUNdp",
        "outputId": "8055c7cc-2057-48a0-f9f5-f4baab2de67b"
      },
      "execution_count": 66,
      "outputs": [
        {
          "output_type": "stream",
          "name": "stdout",
          "text": [
            "not good salary\n"
          ]
        }
      ]
    },
    {
      "cell_type": "code",
      "source": [
        "my_list = [10,20,30,\"rajendra\",20.40]\n",
        "print(my_list[2:5])\n",
        "remove = my_list.remove(20.40)\n",
        "print(my_list)\n",
        "del my_list[-1]\n",
        "print(my_list)\n",
        "my_list.pop()\n",
        "print(my_list)"
      ],
      "metadata": {
        "colab": {
          "base_uri": "https://localhost:8080/"
        },
        "id": "veTsZ-2KdWnT",
        "outputId": "fb9b3ca7-299e-44b1-e994-1d65cb1accd8"
      },
      "execution_count": 78,
      "outputs": [
        {
          "output_type": "stream",
          "name": "stdout",
          "text": [
            "[30, 'rajendra', 20.4]\n",
            "[10, 20, 30, 'rajendra']\n",
            "[10, 20, 30]\n",
            "[10, 20]\n"
          ]
        }
      ]
    },
    {
      "cell_type": "code",
      "source": [
        "#Python List\n",
        "\n",
        "my_list = [1, 2, 3, \"hello\", 5.0]\n",
        "\n",
        "first_element = my_list[0]      # Access the first element (index 0)\n",
        "last_element = my_list[-1]      # Access the last element\n",
        "subset = my_list[1:4]           # Create a sublist (index 1 to 3)\n",
        "\n",
        "print(first_element)\n",
        "print(last_element)\n",
        "print(subset)\n",
        "\n",
        "#Modifying Elements:\n",
        "my_list[2] = \"world\"\n",
        "print(my_list)          # Change the value at index 2\n",
        "my_list.append(6)\n",
        "print(my_list)           # Add an element to the end\n",
        "my_list.insert(2, \"inserted\")\n",
        "print(my_list)         # Insert an element at index 2\n",
        "#remove elements\n",
        "removed_element = my_list.pop(1)\n",
        "print(my_list)    # Remove and return the element at index 1\n",
        "my_list.remove(\"world\")\n",
        "print(my_list)              # Remove the first occurrence of \"world\"\n",
        "del my_list[0]\n",
        "print(my_list)                       # Remove the element at index 0\n",
        "\n",
        "length = len(my_list)\n",
        "print(length)               # Get the length of the list\n",
        "#sorted_list = sorted(my_list)      # Create a sorted version of the list\n",
        "#sum_of_elements = sum(my_list)       # Sum of all elements in the list (if numeric)\n",
        "is_present = 4 in my_list\n",
        "print(is_present)\n",
        "sublist = my_list[1:4]\n",
        "print(sublist)\n",
        "\n",
        "print(my_list.copy())\n",
        "\n",
        "\n"
      ],
      "metadata": {
        "colab": {
          "base_uri": "https://localhost:8080/"
        },
        "id": "4Wtqy1NYhVtU",
        "outputId": "183bed6e-af9f-46e3-b4bc-be5f18117b14"
      },
      "execution_count": 19,
      "outputs": [
        {
          "output_type": "stream",
          "name": "stdout",
          "text": [
            "1\n",
            "5.0\n",
            "[2, 3, 'hello']\n",
            "[1, 2, 'world', 'hello', 5.0]\n",
            "[1, 2, 'world', 'hello', 5.0, 6]\n",
            "[1, 2, 'world', 'inserted', 'hello', 5.0, 6]\n",
            "[1, 'world', 'inserted', 'hello', 5.0, 6]\n",
            "[1, 'inserted', 'hello', 5.0, 6]\n",
            "['inserted', 'hello', 5.0, 6]\n",
            "4\n",
            "False\n",
            "['hello', 5.0, 6]\n",
            "['inserted', 'hello', 5.0, 6]\n"
          ]
        }
      ]
    },
    {
      "cell_type": "code",
      "source": [
        "#Python Tuples\n",
        "\n",
        "my_tuple = (1, 2, 3, 'a', 'b')\n",
        "print(my_tuple[0])  # Output: 1\n",
        "print(my_tuple[3])  # Output: 'a'\n",
        "\n",
        "#methods\n",
        "# Count occurrences of a value\n",
        "print(my_tuple.count(1))  # Output: 1\n",
        "\n",
        "# Find the index of a value\n",
        "print(my_tuple.index('b'))  # Output: 3\n",
        "\n"
      ],
      "metadata": {
        "colab": {
          "base_uri": "https://localhost:8080/"
        },
        "id": "yeV8MJQxtNnV",
        "outputId": "1707c99f-d5fb-479d-d6c3-79ffe6e3ba93"
      },
      "execution_count": 27,
      "outputs": [
        {
          "output_type": "stream",
          "name": "stdout",
          "text": [
            "1\n",
            "a\n",
            "1\n",
            "4\n"
          ]
        }
      ]
    },
    {
      "cell_type": "code",
      "source": [
        "#Python Dictionary\n",
        "\n",
        "my_dict = {'name': 'John', 'age': 25, 'city': 'New York'}\n",
        "print(my_dict['name'])\n",
        "print(my_dict['city'])\n",
        "my_dict['city'] = 'lowell'\n",
        "print(my_dict)\n",
        "my_dict['salary'] = 25000\n",
        "print(my_dict)\n",
        "del my_dict['city']\n",
        "print(my_dict)\n",
        "print(my_dict.keys())\n",
        "print(my_dict.values())\n",
        "print(my_dict.items())"
      ],
      "metadata": {
        "colab": {
          "base_uri": "https://localhost:8080/"
        },
        "id": "IoF3MdnsxW8T",
        "outputId": "0f0bbc9e-fe45-4a1b-a55e-9a535f0bcb4b"
      },
      "execution_count": 40,
      "outputs": [
        {
          "output_type": "stream",
          "name": "stdout",
          "text": [
            "John\n",
            "New York\n",
            "{'name': 'John', 'age': 25, 'city': 'lowell'}\n",
            "{'name': 'John', 'age': 25, 'city': 'lowell', 'salary': 25000}\n",
            "{'name': 'John', 'age': 25, 'salary': 25000}\n",
            "dict_keys(['name', 'age', 'salary'])\n",
            "dict_values(['John', 25, 25000])\n",
            "dict_items([('name', 'John'), ('age', 25), ('salary', 25000)])\n"
          ]
        }
      ]
    },
    {
      "cell_type": "code",
      "source": [
        "#Python Set\n",
        "\n",
        "my_set = {1, 2, 2, 3, 3, 4, 5} #Sets only contain unique elements. If you try to add a duplicate element, it will be ignored.\n",
        "print(my_set)\n",
        "my_set.add(6)      # Adds element 6 to the set\n",
        "my_set.remove(3)   # Removes element 3 from the set\n",
        "print(my_set)\n",
        "\n",
        "\n",
        "set1 = {1, 2, 3, 4, 5}\n",
        "set2 = {4, 5, 6, 7, 8}\n",
        "# Union\n",
        "union_set = set1.union(set2)  # {1, 2, 3, 4, 5, 6, 7, 8}\n",
        "\n",
        "# Intersection\n",
        "intersection_set = set1.intersection(set2)  # {4, 5}\n",
        "\n",
        "# Difference\n",
        "difference_set = set1.difference(set2)  # {1, 2, 3}\n",
        "\n",
        "# Symmetric Difference\n",
        "symmetric_difference_set = set1.symmetric_difference(set2)  # {1, 2, 3, 6, 7, 8}\n",
        "print(union_set)\n",
        "print(intersection_set)\n",
        "print(difference_set)\n",
        "print(symmetric_difference_set)"
      ],
      "metadata": {
        "colab": {
          "base_uri": "https://localhost:8080/"
        },
        "id": "l5JA-JK_3clV",
        "outputId": "1ab0f11f-744f-4c6e-e32e-7bd5b9569fb9"
      },
      "execution_count": 46,
      "outputs": [
        {
          "output_type": "stream",
          "name": "stdout",
          "text": [
            "{1, 2, 3, 4, 5}\n",
            "{1, 2, 4, 5, 6}\n",
            "{1, 2, 3, 4, 5, 6, 7, 8}\n",
            "{4, 5}\n",
            "{1, 2, 3}\n",
            "{1, 2, 3, 6, 7, 8}\n"
          ]
        }
      ]
    },
    {
      "cell_type": "code",
      "source": [
        "my_set = {1, 2, 2, 3, 3, 4, 5}\n",
        "my_set.add(10)\n",
        "print(my_set)\n",
        "my_set.remove(2)\n",
        "print(my_set)\n",
        "my_set.discard(8)\n",
        "print(my_set)\n",
        "my_set.clear()\n",
        "print(my_set)\n",
        "my_frozenset = frozenset([1,2,3,4,5,6])\n",
        "(print(my_frozenset))\n",
        "\n"
      ],
      "metadata": {
        "colab": {
          "base_uri": "https://localhost:8080/"
        },
        "id": "7RKi70_b5WR_",
        "outputId": "df75896b-0497-4e37-df99-f848f844a155"
      },
      "execution_count": 55,
      "outputs": [
        {
          "output_type": "stream",
          "name": "stdout",
          "text": [
            "{1, 2, 3, 4, 5, 10}\n",
            "{1, 3, 4, 5, 10}\n",
            "{1, 3, 4, 5, 10}\n",
            "set()\n",
            "frozenset({1, 2, 3, 4, 5, 6})\n"
          ]
        }
      ]
    },
    {
      "cell_type": "code",
      "source": [
        "fruits = [\"apple\", \"banana\", \"cherry\"]\n",
        "for fruit in fruits:\n",
        "    print(fruit)"
      ],
      "metadata": {
        "colab": {
          "base_uri": "https://localhost:8080/"
        },
        "id": "4tzso2qspYOw",
        "outputId": "6c8527b3-cba1-42bb-86e0-bf74880b2c73"
      },
      "execution_count": 56,
      "outputs": [
        {
          "output_type": "stream",
          "name": "stdout",
          "text": [
            "apple\n",
            "banana\n",
            "cherry\n"
          ]
        }
      ]
    },
    {
      "cell_type": "code",
      "source": [
        "#Convert Keys, Values, or Items to Lists:\n",
        "#Convert Keys to a List:\n",
        "\n",
        "raj_dict = {'rajendra':111,'sateesh':222,'kv':333}\n",
        "\n",
        "#Convert Keys to a List:\n",
        "keys_list = list(raj_dict.keys())\n",
        "#Convert values to a List:\n",
        "values_list = list(raj_dict.values())\n",
        "#Convert items(key-values pais) to a List:\n",
        "items_list = list(raj_dict.items())\n",
        "print(keys_list)\n",
        "print(values_list)\n",
        "print(items_list)\n"
      ],
      "metadata": {
        "colab": {
          "base_uri": "https://localhost:8080/"
        },
        "id": "xVaKBdJC95tg",
        "outputId": "e68e8271-2a94-4069-8552-76f2eea6593b"
      },
      "execution_count": 58,
      "outputs": [
        {
          "output_type": "stream",
          "name": "stdout",
          "text": [
            "['rajendra', 'sateesh', 'kv']\n",
            "[111, 222, 333]\n",
            "[('rajendra', 111), ('sateesh', 222), ('kv', 333)]\n"
          ]
        }
      ]
    },
    {
      "cell_type": "code",
      "source": [
        "#Python Conditional Statements\n",
        "\n",
        "#If Statement:\n",
        "score = 88\n",
        "if score >= 75:\n",
        "    print(\"first class\")\n",
        "\n",
        "#If-Else Statement:\n",
        "score = 90\n",
        "if score >= 80:\n",
        "    print(\"first class\")\n",
        "else:\n",
        "    print(\"second class\")\n",
        "\n",
        "score = 60\n",
        "if score >= 80:\n",
        "    print(\"first class\")\n",
        "else:\n",
        "    print(\"second class\")\n",
        "\n",
        "#If-Elif-Else Statement:\n",
        "score = 60\n",
        "if score >= 80:\n",
        "    print(\"first class\")\n",
        "elif score >=60:\n",
        "    print(\"second class\")\n",
        "elif score >=35:\n",
        "    print(\"third class\")\n",
        "else:\n",
        "    print(\"fail\")\n",
        "\n",
        "score = 90\n",
        "if score >= 80:\n",
        "    print(\"first class\")\n",
        "elif score >=60:\n",
        "    print(\"second class\")\n",
        "elif score >=35:\n",
        "    print(\"third class\")\n",
        "else:\n",
        "    print(\"fail\")\n",
        "\n",
        "score = 50\n",
        "if score >= 80:\n",
        "    print(\"first class\")\n",
        "elif score >=60:\n",
        "    print(\"second class\")\n",
        "elif score >=35:\n",
        "    print(\"third class\")\n",
        "else:\n",
        "    print(\"fail\")\n",
        "\n",
        "score = 25\n",
        "if score >= 80:\n",
        "    print(\"first class\")\n",
        "elif score >=60:\n",
        "    print(\"second class\")\n",
        "elif score >=35:\n",
        "    print(\"third class\")\n",
        "else:\n",
        "    print(\"fail\")"
      ],
      "metadata": {
        "colab": {
          "base_uri": "https://localhost:8080/"
        },
        "id": "e5a8aVsEDN0Y",
        "outputId": "309e6ed8-db9b-46c2-887a-e970dd6b9dea"
      },
      "execution_count": 65,
      "outputs": [
        {
          "output_type": "stream",
          "name": "stdout",
          "text": [
            "first class\n",
            "first class\n",
            "second class\n",
            "second class\n",
            "first class\n",
            "third class\n",
            "fail\n"
          ]
        }
      ]
    }
  ]
}